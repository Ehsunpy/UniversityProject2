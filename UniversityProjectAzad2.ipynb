{
  "nbformat": 4,
  "nbformat_minor": 0,
  "metadata": {
    "colab": {
      "private_outputs": true,
      "provenance": []
    },
    "kernelspec": {
      "name": "python3",
      "display_name": "Python 3"
    },
    "language_info": {
      "name": "python"
    }
  },
  "cells": [
    {
      "cell_type": "markdown",
      "source": [],
      "metadata": {
        "id": "LTsHPjLCT0_L"
      }
    },
    {
      "cell_type": "markdown",
      "source": [
        "<div dir=\"rtl\" style=\"background-color: #282c34; padding: 20px; border-radius: 15px; font-family: 'B Nazanin', sans-serif; color: #ffffff;\">\n",
        "\n",
        "<h2 style=\"color:#61dafb; text-align: center;\">📦 نصب کتابخانه‌های مورد نیاز</h2>  \n",
        "<p style=\"font-size: 1.2em; line-height: 1.8;\">برای استفاده از قابلیت‌های تبدیل متن به گفتار، باید دو کتابخانه‌ی <b>gTTS</b> و <b>google-cloud-texttospeech</b> را نصب کنید. این کتابخانه‌ها ابزارهای لازم برای تبدیل متن به گفتار را فراهم می‌کنند.</p>\n",
        "\n",
        "<ol style=\"font-size: 1.1em;\">\n",
        "  <li style=\"margin-bottom: 15px;\"><b style=\"color:#ffd700;\">`gTTS`</b> 🎤:  \n",
        "   این کتابخانه برای تبدیل متن به گفتار با استفاده از سرویس Google Text-to-Speech استفاده می‌شود. برای نصب آن از دستور زیر استفاده کنید:\n",
        "   <br><code style=\"color:#ff79c6; background-color: #44475a; padding: 3px 6px; border-radius: 5px;\">pip install gtts</code></li>\n",
        "  \n",
        "  <li style=\"margin-bottom: 15px;\"><b style=\"color:#ffd700;\">`google-cloud-texttospeech`</b> ☁️:  \n",
        "   این کتابخانه برای دسترسی به API Google Cloud Text-to-Speech استفاده می‌شود. برای نصب آن از دستور زیر استفاده کنید:\n",
        "   <br><code style=\"color:#ff79c6; background-color: #44475a; padding: 3px 6px; border-radius: 5px;\">pip install google-cloud-texttospeech</code></li>\n",
        "</ol>\n",
        "\n",
        "<div style=\"background-color: rgba(255, 255, 255, 0.1); padding: 15px; border-radius: 10px; border-left: 5px solid #61dafb; margin-top: 20px;\">\n",
        "  💡 <b style=\"color:#ffdf00;\">نکته:</b>  \n",
        "  شما می‌توانید تمام این کتابخانه‌ها را به صورت یکجا با دستور زیر نصب کنید:\n",
        "  <br><code style=\"color:#ff79c6; background-color: #44475a; padding: 3px 6px; border-radius: 5px;\">pip install gtts google-cloud-texttospeech</code>\n",
        "</div>\n",
        "\n",
        "<div style=\"text-align: center; margin-top: 20px;\">\n",
        "    <img src=\"https://miro.medium.com/v2/resize:fit:4800/format:webp/0*ZZBRaNFRpAn78sQp\" alt=\"Image\" style=\"max-width: 100%; border-radius: 10px;\">\n",
        "</div>\n",
        "\n",
        "</div>\n"
      ],
      "metadata": {
        "id": "MNo03P6TYuyd"
      }
    },
    {
      "source": [
        "!pip install gtts  # نصب کتابخانه gTTS\n"
      ],
      "cell_type": "code",
      "metadata": {
        "id": "HKkxOhhjA28H"
      },
      "execution_count": null,
      "outputs": []
    },
    {
      "cell_type": "code",
      "source": [
        "!pip install google-cloud-texttospeech\n"
      ],
      "metadata": {
        "id": "2EyV_dmpFc2Z"
      },
      "execution_count": null,
      "outputs": []
    },
    {
      "cell_type": "markdown",
      "source": [
        "<div dir=\"rtl\" style=\"background-color: #282c34; padding: 20px; border-radius: 15px; font-family: 'B Nazanin', sans-serif; color: #ffffff;\">\n",
        "\n",
        "<h2 style=\"color:#61dafb; text-align: center;\">📜 توضیحات کد: `IPython.display` و تابع `display_message`</h2>  \n",
        "\n",
        "<p style=\"font-size: 1.2em; line-height: 1.8;\">در این بخش، با کد مربوط به کتابخانه `IPython.display` و تابع `display_message` آشنا خواهید شد. این کد برای نمایش پیام‌ها با رنگ و اندازه متن سفارشی در محیط Google Colab استفاده می‌شود.</p>\n",
        "\n",
        "<h3 style=\"color:#ff79c6;\">۱. وارد کردن کتابخانه‌ها:</h3>\n",
        "<p style=\"font-size: 1.1em; line-height: 1.8;\">در ابتدا، کتابخانه‌های مورد نیاز برای نمایش صدا و پیام‌ها را وارد می‌کنیم:</p>\n",
        "<pre style=\"background-color: #44475a; color: #ff79c6; padding: 10px; border-radius: 5px;\">\n",
        "<code>from IPython.display import Audio, display, HTML</code></pre>\n",
        "\n",
        "<h3 style=\"color:#ff79c6;\">۲. تعریف تابع `display_message`:</h3>\n",
        "<p style=\"font-size: 1.1em; line-height: 1.8;\">تابع `display_message` برای نمایش پیام‌های متنی با رنگ و اندازه متن دلخواه استفاده می‌شود. در اینجا توضیحاتی درباره این تابع آمده است:</p>\n",
        "\n",
        "<pre style=\"background-color: #44475a; color: #ff79c6; padding: 10px; border-radius: 5px;\">\n",
        "<code>\n",
        "def display_message(message, color='black', font_size='16px'):\n",
        "    \"\"\"نمایش پیام با رنگ و اندازه متن دلخواه.\"\"\"\n",
        "    display(HTML(f\"<p style='color:{color}; font-size:{font_size};'>{message}</p>\"))\n",
        "</code></pre>\n",
        "\n",
        "<ul style=\"font-size: 1.1em;\">\n",
        "  <li><b>پارامتر `message`:</b> پیام متنی که می‌خواهید نمایش دهید.</li>\n",
        "  <li><b>پارامتر `color`:</b> رنگ متن (پیش‌فرض: سیاه).</li>\n",
        "  <li><b>پارامتر `font_size`:</b> اندازه فونت متن (پیش‌فرض: 16 پیکسل).</li>\n",
        "</ul>\n",
        "\n",
        "<p style=\"font-size: 1.1em; line-height: 1.8;\">با استفاده از این تابع می‌توانید پیام‌ها را به صورت زیبا و با ویژگی‌های سفارشی در محیط Google Colab نمایش دهید.</p>\n",
        "\n",
        "</div>\n"
      ],
      "metadata": {
        "id": "SrfZDgjGakoT"
      }
    },
    {
      "cell_type": "code",
      "execution_count": null,
      "metadata": {
        "id": "u8jRLl7SAZPg"
      },
      "outputs": [],
      "source": [
        "from IPython.display import Audio, display, HTML\n",
        "\n",
        "def display_message(message, color='black', font_size='16px'):\n",
        "    \"\"\"Display a message with optional color and font size.\"\"\"\n",
        "    display(HTML(f\"<p style='color:{color}; font-size:{font_size};'>{message}</p>\"))\n"
      ]
    },
    {
      "cell_type": "markdown",
      "source": [
        "<div dir=\"rtl\" style=\"background-color: #282c34; padding: 20px; border-radius: 15px; font-family: 'B Nazanin', sans-serif; color: #ffffff;\">\n",
        "\n",
        "<h2 style=\"color:#61dafb; text-align: center;\">📝 تابع `get_user_input`</h2>  \n",
        "\n",
        "<p style=\"font-size: 1.2em; line-height: 1.8;\">تابع `get_user_input` برای دریافت ورودی متنی از کاربر طراحی شده است. این تابع با استفاده از تابع `input` در پایتون، متنی را که کاربر وارد می‌کند دریافت کرده و آن را برمی‌گرداند.</p>\n",
        "\n",
        "<h3 style=\"color:#ff79c6;\">📋 نحوه عملکرد تابع:</h3>\n",
        "<pre style=\"background-color: #44475a; color: #ff79c6; padding: 10px; border-radius: 5px;\">\n",
        "<code>\n",
        "def get_user_input():\n",
        "    user_text = input(\"Enter your text: \")\n",
        "    return user_text\n",
        "</code></pre>\n",
        "\n",
        "<ul style=\"font-size: 1.1em;\">\n",
        "  <li><b>وظیفه:</b> دریافت ورودی متنی از کاربر.</li>\n",
        "  <li><b>پارامتر:</b> هیچ پارامتری نیاز ندارد.</li>\n",
        "  <li><b>خروجی:</b> متن ورودی کاربر به صورت رشته (string).</li>\n",
        "</ul>\n",
        "\n",
        "<h3 style=\"color:#ff79c6;\">📥 مثال استفاده:</h3>\n",
        "<p style=\"font-size: 1.1em; line-height: 1.8;\">برای استفاده از تابع، می‌توانید آن را به صورت زیر فراخوانی کنید:</p>\n",
        "<pre style=\"background-color: #44475a; color: #ff79c6; padding: 10px; border-radius: 5px;\">\n",
        "<code>\n",
        "user_input = get_user_input()\n",
        "print(\"متن وارد شده:\", user_input)\n",
        "</code></pre>\n",
        "\n",
        "<p style=\"font-size: 1.1em; line-height: 1.8;\">در این مثال، تابع `get_user_input` برای دریافت ورودی کاربر استفاده شده و سپس متن وارد شده چاپ می‌شود.</p>\n",
        "\n",
        "</div>\n"
      ],
      "metadata": {
        "id": "WcP0yUgEa4qe"
      }
    },
    {
      "cell_type": "code",
      "source": [
        "def get_user_input():\n",
        "    user_text = input(\"Enter your text: \")\n",
        "    return user_text\n"
      ],
      "metadata": {
        "id": "lbHEOvLAAbOE"
      },
      "execution_count": null,
      "outputs": []
    },
    {
      "cell_type": "markdown",
      "source": [
        "<div dir=\"rtl\" style=\"background-color: #282c34; padding: 20px; border-radius: 15px; font-family: 'B Nazanin', sans-serif; color: #ffffff;\">\n",
        "\n",
        "<h2 style=\"color:#61dafb; text-align: center;\">🔊 تابع `make_voice`</h2>  \n",
        "\n",
        "<p style=\"font-size: 1.2em; line-height: 1.8;\">تابع `make_voice` برای تبدیل متن به گفتار با استفاده از کتابخانه `gTTS` (Google Text-to-Speech) طراحی شده است. این تابع متن ورودی را به صدا تبدیل کرده و آن را در یک فایل MP3 موقت ذخیره می‌کند و سپس آن را پخش می‌کند.</p>\n",
        "\n",
        "<h3 style=\"color:#ff79c6;\">📋 نحوه عملکرد تابع:</h3>\n",
        "<pre style=\"background-color: #44475a; color: #ff79c6; padding: 10px; border-radius: 5px;\">\n",
        "<code>\n",
        "def make_voice():\n",
        "    text = get_user_input()\n",
        "\n",
        "    # Create gTTS object with English language\n",
        "    tts = gTTS(text=text, lang='en', slow=False)\n",
        "\n",
        "    # Save the spoken text to a temporary MP3 file\n",
        "    with tempfile.NamedTemporaryFile(delete=False, suffix='.mp3') as temp_file:\n",
        "        temp_file_name = temp_file.name\n",
        "        tts.save(temp_file_name)\n",
        "\n",
        "        # Play the audio\n",
        "        display_message(\"🔊 **Playing generated voice...**\", color='purple', font_size='16px')\n",
        "        display(Audio(temp_file_name))\n",
        "</code></pre>\n",
        "\n",
        "<ul style=\"font-size: 1.1em;\">\n",
        "  <li><b>وظیفه:</b> تبدیل متن به گفتار و پخش فایل صوتی تولید شده.</li>\n",
        "  <li><b>پارامتر:</b> هیچ پارامتری نیاز ندارد.</li>\n",
        "  <li><b>خروجی:</b> پخش صوتی تولید شده از متن ورودی.</li>\n",
        "</ul>\n",
        "\n",
        "<h3 style=\"color:#ff79c6;\">📥 مراحل انجام:</h3>\n",
        "<ol style=\"font-size: 1.1em;\">\n",
        "  <li>دریافت متن ورودی از کاربر با استفاده از تابع `get_user_input`.</li>\n",
        "  <li>ایجاد شیء `gTTS` با متن ورودی و زبان انگلیسی.</li>\n",
        "  <li>ذخیره متن گفتاری به عنوان فایل MP3 موقت.</li>\n",
        "  <li>پخش فایل MP3 تولید شده.</li>\n",
        "</ol>\n",
        "\n",
        "<p style=\"font-size: 1.1em; line-height: 1.8;\">تابع `make_voice` با استفاده از `tempfile` برای ذخیره فایل صوتی به صورت موقت و سپس پخش آن، به راحتی می‌تواند به صوتی تبدیل شود که به صورت آنی و بدون نیاز به ذخیره‌سازی دائمی فایل، قابل شنیدن است.</p>\n",
        "\n",
        "</div>\n"
      ],
      "metadata": {
        "id": "AHlkEJ1rbVk9"
      }
    },
    {
      "cell_type": "code",
      "source": [
        "from gtts import gTTS\n",
        "import tempfile\n",
        "\n",
        "def make_voice():\n",
        "    text = get_user_input()\n",
        "\n",
        "    # Create gTTS object with English language\n",
        "    tts = gTTS(text=text, lang='en', slow=False)\n",
        "\n",
        "    # Save the spoken text to a temporary MP3 file\n",
        "    with tempfile.NamedTemporaryFile(delete=False, suffix='.mp3') as temp_file:\n",
        "        temp_file_name = temp_file.name\n",
        "        tts.save(temp_file_name)\n",
        "\n",
        "        # Play the audio\n",
        "        display_message(\"🔊 **Playing generated voice...**\", color='purple', font_size='16px')\n",
        "        display(Audio(temp_file_name))\n"
      ],
      "metadata": {
        "id": "LxB9WRwGZNTM"
      },
      "execution_count": null,
      "outputs": []
    },
    {
      "cell_type": "markdown",
      "source": [
        "<div dir=\"rtl\" style=\"background-color: #282c34; padding: 20px; border-radius: 15px; font-family: 'B Nazanin', sans-serif; color: #ffffff;\">\n",
        "\n",
        "<h2 style=\"color:#61dafb; text-align: center;\">📁 تابع `make_mp3`</h2>  \n",
        "\n",
        "<p style=\"font-size: 1.2em; line-height: 1.8;\">تابع `make_mp3` برای تبدیل متن به گفتار و ذخیره آن به عنوان یک فایل MP3 طراحی شده است. این تابع متن ورودی را با استفاده از کتابخانه `gTTS` (Google Text-to-Speech) به صدا تبدیل کرده و آن را در فایلی با نام `project.mp3` ذخیره می‌کند و سپس فایل صوتی را پخش می‌کند.</p>\n",
        "\n",
        "<h3 style=\"color:#ff79c6;\">📋 نحوه عملکرد تابع:</h3>\n",
        "<pre style=\"background-color: #44475a; color: #ff79c6; padding: 10px; border-radius: 5px;\">\n",
        "<code>\n",
        "def make_mp3():\n",
        "    text = get_user_input()\n",
        "\n",
        "    # Create gTTS object with English language\n",
        "    tts = gTTS(text=text, lang='en', slow=False)\n",
        "\n",
        "    # Save the spoken text to an MP3 file\n",
        "    tts.save(\"project.mp3\")\n",
        "\n",
        "    # Play the audio\n",
        "    display_message(\"🔊 **Playing saved MP3 file...**\", color='purple', font_size='16px')\n",
        "    display(Audio(\"project.mp3\"))\n",
        "</code></pre>\n",
        "\n",
        "<ul style=\"font-size: 1.1em;\">\n",
        "  <li><b>وظیفه:</b> تبدیل متن به گفتار و ذخیره آن به عنوان فایل MP3 و پخش فایل صوتی تولید شده.</li>\n",
        "  <li><b>پارامتر:</b> هیچ پارامتری نیاز ندارد.</li>\n",
        "  <li><b>خروجی:</b> پخش فایل MP3 ذخیره شده.</li>\n",
        "</ul>\n",
        "\n",
        "<h3 style=\"color:#ff79c6;\">📥 مراحل انجام:</h3>\n",
        "<ol style=\"font-size: 1.1em;\">\n",
        "  <li>دریافت متن ورودی از کاربر با استفاده از تابع `get_user_input`.</li>\n",
        "  <li>ایجاد شیء `gTTS` با متن ورودی و زبان انگلیسی.</li>\n",
        "  <li>ذخیره متن گفتاری به عنوان فایل MP3 با نام `project.mp3`.</li>\n",
        "  <li>پخش فایل MP3 ذخیره شده.</li>\n",
        "</ol>\n",
        "\n",
        "<p style=\"font-size: 1.1em; line-height: 1.8;\">تابع `make_mp3` برای ذخیره‌سازی فایل صوتی به صورت دائمی و پخش آن، مناسب است. این تابع فایل MP3 را به صورت محلی ذخیره کرده و بلافاصله آن را پخش می‌کند.</p>\n",
        "\n",
        "</div>\n"
      ],
      "metadata": {
        "id": "mGGvNEcsbfNh"
      }
    },
    {
      "cell_type": "code",
      "source": [
        "def make_mp3():\n",
        "    text = get_user_input()\n",
        "\n",
        "    # Create gTTS object with English language\n",
        "    tts = gTTS(text=text, lang='en', slow=False)\n",
        "\n",
        "    # Save the spoken text to an MP3 file\n",
        "    tts.save(\"project.mp3\")\n",
        "\n",
        "    # Play the audio\n",
        "    display_message(\"🔊 **Playing saved MP3 file...**\", color='purple', font_size='16px')\n",
        "    display(Audio(\"project.mp3\"))\n"
      ],
      "metadata": {
        "id": "BdHTEvRoZQW3"
      },
      "execution_count": null,
      "outputs": []
    },
    {
      "cell_type": "markdown",
      "source": [
        "<div dir=\"rtl\" style=\"background-color: #282c34; padding: 20px; border-radius: 15px; font-family: 'B Nazanin', sans-serif; color: #ffffff;\">\n",
        "\n",
        "<h2 style=\"color:#61dafb; text-align: center;\">🔧 توابع `first` و `main`</h2>  \n",
        "\n",
        "<p style=\"font-size: 1.2em; line-height: 1.8;\">در این بخش به توضیح توابع `first` و `main` می‌پردازیم که در پروژه تبدیل متن به گفتار استفاده می‌شوند. این توابع مسئولیت کنترل جریان برنامه و تعامل با کاربر را به عهده دارند.</p>\n",
        "\n",
        "<h3 style=\"color:#ff79c6;\">📋 تابع `first`</h3>\n",
        "<pre style=\"background-color: #44475a; color: #ff79c6; padding: 10px; border-radius: 5px;\">\n",
        "<code>\n",
        "def first():\n",
        "    user_choice = input(\"If you just want to make a file, type 'yes': \").strip().title()\n",
        "    if user_choice == 'Yes':\n",
        "        display_message(\"📁 **Creating MP3 file...**\", color='green', font_size='16px')\n",
        "        make_mp3()\n",
        "    elif user_choice == \"No\":\n",
        "        display_message(\"🔊 **Generating voice...**\", color='green', font_size='16px')\n",
        "        make_voice()\n",
        "        display_message(\"📁 **Creating MP3 file...**\", color='green', font_size='16px')\n",
        "        make_mp3()\n",
        "    else:\n",
        "        raise ValueError(\"Input must be 'Yes' or 'No'!\")\n",
        "</code></pre>\n",
        "\n",
        "<ul style=\"font-size: 1.1em;\">\n",
        "  <li><b>وظیفه:</b> پردازش ورودی کاربر برای تصمیم‌گیری درباره ایجاد فایل MP3 یا تولید صدا.</li>\n",
        "  <li><b>ورودی:</b> انتخاب کاربر برای ایجاد فایل MP3 یا تولید صدا.</li>\n",
        "  <li><b>خروجی:</b> اجرای توابع `make_mp3` یا `make_voice` بر اساس انتخاب کاربر.</li>\n",
        "</ul>\n",
        "\n",
        "<h3 style=\"color:#ff79c6;\">📋 تابع `main`</h3>\n",
        "<pre style=\"background-color: #44475a; color: #ff79c6; padding: 10px; border-radius: 5px;\">\n",
        "<code>\n",
        "def main():\n",
        "    display_message(\"🎙️ **Welcome to the Text-to-Speech Converter!** 🎙️\", color='blue', font_size='18px')\n",
        "    first()\n",
        "</code></pre>\n",
        "\n",
        "<ul style=\"font-size: 1.1em;\">\n",
        "  <li><b>وظیفه:</b> نمایش پیغام خوشامدگویی و فراخوانی تابع `first`.</li>\n",
        "  <li><b>خروجی:</b> نمایش پیغام خوشامدگویی و شروع فرآیند با تابع `first`.</li>\n",
        "</ul>\n",
        "\n",
        "<p style=\"font-size: 1.1em; line-height: 1.8;\">تابع `main` نقطه شروع برنامه است که پس از نمایش پیام خوشامدگویی، به تابع `first` می‌پردازد تا تصمیم‌گیری‌های لازم انجام شود. تابع `first` بر اساس انتخاب کاربر، یکی از توابع `make_mp3` یا `make_voice` را اجرا می‌کند.</p>\n",
        "\n",
        "</div>\n"
      ],
      "metadata": {
        "id": "2s3qv729bnwq"
      }
    },
    {
      "cell_type": "code",
      "source": [
        "def first():\n",
        "    user_choice = input(\"If you just want to make a file, type 'yes': \").strip().title()\n",
        "    if user_choice == 'Yes':\n",
        "        display_message(\"📁 **Creating MP3 file...**\", color='green', font_size='16px')\n",
        "        make_mp3()\n",
        "    elif user_choice == \"No\":\n",
        "        display_message(\"🔊 **Generating voice...**\", color='green', font_size='16px')\n",
        "        make_voice()\n",
        "        display_message(\"📁 **Creating MP3 file...**\", color='green', font_size='16px')\n",
        "        make_mp3()\n",
        "    else:\n",
        "        raise ValueError(\"Input must be 'Yes' or 'No'!\")\n",
        "\n",
        "def main():\n",
        "    display_message(\"🎙️ **Welcome to the Text-to-Speech Converter!** 🎙️\", color='blue', font_size='18px')\n",
        "    first()\n"
      ],
      "metadata": {
        "id": "0tFWLkhuZTk3"
      },
      "execution_count": null,
      "outputs": []
    },
    {
      "cell_type": "markdown",
      "source": [
        "<div dir=\"rtl\" style=\"background-color: #282c34; padding: 20px; border-radius: 15px; font-family: 'B Nazanin', sans-serif; color: #ffffff;\">\n",
        "\n",
        "<h2 style=\"color:#61dafb; text-align: center;\">🔍 بررسی دستور `if __name__ == \"__main__\":`</h2>  \n",
        "\n",
        "<p style=\"font-size: 1.2em; line-height: 1.8;\">در این بخش، به توضیح نحوه عملکرد دستور `if __name__ == \"__main__\":` در زبان برنامه‌نویسی پایتون و نحوه فراخوانی تابع اصلی برنامه می‌پردازیم.</p>\n",
        "\n",
        "<h3 style=\"color:#ff79c6;\">📋 دستور `if __name__ == \"__main__\":`</h3>\n",
        "<pre style=\"background-color: #44475a; color: #ff79c6; padding: 10px; border-radius: 5px;\">\n",
        "<code>\n",
        "if __name__ == \"__main__\":\n",
        "    main()\n",
        "</code></pre>\n",
        "\n",
        "<ul style=\"font-size: 1.1em;\">\n",
        "  <li><b>وظیفه:</b> این دستور به پایتون می‌گوید که آیا ماژول در حال اجرا به عنوان برنامه اصلی است یا خیر. اگر ماژول به عنوان برنامه اصلی اجرا شود، کد درون این بلوک اجرا خواهد شد.</li>\n",
        "  <li><b>عملکرد:</b> این خط کد به برنامه اعلام می‌کند که اگر فایل به طور مستقیم اجرا شود (و نه به عنوان ماژول وارد شده در فایل‌های دیگر)، تابع `main()` باید فراخوانی شود.</li>\n",
        "  <li><b>نتیجه:</b> اجرای تابع `main()` که معمولاً نقطه شروع برنامه است و وظیفه اجرای کدهای اصلی و پیغام‌های خوشامدگویی را بر عهده دارد.</li>\n",
        "</ul>\n",
        "\n",
        "<p style=\"font-size: 1.1em; line-height: 1.8;\">این دستور به ما کمک می‌کند تا اطمینان حاصل کنیم که کدهای خاصی تنها زمانی اجرا می‌شوند که فایل به طور مستقیم اجرا شود و نه زمانی که به عنوان یک ماژول به فایل‌های دیگر وارد شده باشد.</p>\n",
        "\n",
        "</div>\n"
      ],
      "metadata": {
        "id": "f14jrcfkcJ_B"
      }
    },
    {
      "cell_type": "code",
      "source": [
        "if __name__ == \"__main__\":\n",
        "    main()\n"
      ],
      "metadata": {
        "id": "UAMPWtcTZURp"
      },
      "execution_count": null,
      "outputs": []
    },
    {
      "cell_type": "markdown",
      "source": [
        "<div dir=\"rtl\" style=\"background-color: #282c34; padding: 20px; border-radius: 15px; font-family: 'B Nazanin', sans-serif; color: #ffffff;\">\n",
        "\n",
        "<h2 style=\"color:#61dafb; text-align: center;\">🎙️ خروجی تبدیل متن به گفتار</h2>  \n",
        "\n",
        "<p style=\"font-size: 1.2em; line-height: 1.8;\">در این بخش، خروجی تابع تبدیل متن به گفتار را مشاهده می‌کنید که شامل دیالوگ معروفی از سریال <i>Breaking Bad</i> است.</p>\n",
        "\n",
        "<h3 style=\"color:#ff79c6;\">🎬 دیالوگ:</h3>\n",
        "<p style=\"font-size: 1.1em; line-height: 1.8;\">در صورتی که فقط بخواهید یک فایل بسازید، نوع <b>'yes'</b> را وارد کنید:</p>\n",
        "\n",
        "<pre style=\"background-color: #44475a; color: #ff79c6; padding: 10px; border-radius: 5px;\">\n",
        "<code>\n",
        "Who are you talking to right now? Who is it you think you see? Do you know how much I make a year? I mean, even if I told you, you wouldn't believe it. Do you know what would happen if I suddenly decided to stop going into work? A business big enough that it could be listed on the NASDAQ goes belly up. Disappears! It ceases to exist without me. No, you clearly don't know who you're talking to, so let me clue you in. I am not in danger, Skyler. I am the danger. A guy opens his door and gets shot, and you think that of me? No. I am the one who knocks!\n",
        "</code></pre>\n",
        "\n",
        "<p style=\"font-size: 1.1em; line-height: 1.8;\">ویدئوی مربوط به این دیالوگ از سریال <i>Breaking Bad</i>:</p>\n",
        "\n",
        "<div style=\"text-align: center; margin-top: 20px;\">\n",
        "    <img src=\"https://i.giphy.com/media/v1.Y2lkPTc5MGI3NjExcWo3eWh6ZTk2cmxnc2VpcmVhaDFvZDAwaGZzdzdlYTFxNjd2YnF4NSZlcD12MV9pbnRlcm5hbF9naWZfYnlfaWQmY3Q9Zw/3ohc11UljvpPKWeNva/giphy.gif\" alt=\"Breaking Bad Gif\" style=\"max-width: 100%; border-radius: 10px;\">\n",
        "</div>\n",
        "\n",
        "\n",
        "\n",
        "<p style=\"font-size: 1.1em; line-height: 1.8;\">📁 **فایل MP3 ایجاد شده با موفقیت و در حال پخش است.** 🔊</p>\n",
        "\n",
        "</div>\n"
      ],
      "metadata": {
        "id": "T39HqRvFckdI"
      }
    },
    {
      "cell_type": "code",
      "source": [],
      "metadata": {
        "id": "fbBM-s1bZWVM"
      },
      "execution_count": null,
      "outputs": []
    }
  ]
}